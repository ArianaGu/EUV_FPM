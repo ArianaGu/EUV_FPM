{
 "cells": [
  {
   "cell_type": "code",
   "execution_count": null,
   "metadata": {
    "collapsed": true,
    "pycharm": {
     "name": "#%%\n"
    }
   },
   "outputs": [],
   "source": [
    "import numpy as np\n",
    "import matplotlib.pyplot as plt\n",
    "import matplotlib.colors as mcolors\n",
    "from matplotlib import cm\n",
    "from mpl_toolkits.axes_grid1 import make_axes_locatable\n",
    "from IPython.display import display, clear_output\n",
    "from colorsys import hls_to_rgb\n",
    "from PIL import Image\n",
    "import os\n",
    "import glob\n",
    "from utils import *"
   ]
  },
  {
   "cell_type": "markdown",
   "metadata": {
    "collapsed": false,
    "pycharm": {
     "name": "#%% md\n"
    }
   },
   "source": [
    "# System parameters"
   ]
  },
  {
   "cell_type": "code",
   "execution_count": null,
   "metadata": {
    "collapsed": false,
    "pycharm": {
     "name": "#%%\n"
    }
   },
   "outputs": [],
   "source": [
    "# size of the region of interest\n",
    "roi_size_px = 332*3\n",
    "# wavelength of acquisition\n",
    "lambda_m = 13.5e-9\n",
    "\n",
    "# effective pixel size\n",
    "dx_m = 15e-9\n",
    "# effective field size\n",
    "Dx_m = roi_size_px * dx_m\n",
    "\n",
    "# spatial scales\n",
    "x_m = np.arange(1, roi_size_px + 1) * dx_m\n",
    "y_m = np.arange(1, roi_size_px + 1) * dx_m\n",
    "\n",
    "# angular frequency scale\n",
    "fs = 1 / (x_m[1] - x_m[0])\n",
    "Nfft = len(x_m)\n",
    "df = fs / Nfft\n",
    "freq_cpm = np.arange(0, fs, df) - (fs - Nfft % 2 * df) / 2\n",
    "\n",
    "# frequency cut-off of the lens (0.33 4xNA lens)\n",
    "fc_lens = (np.arcsin(.33/4)/lambda_m)\n",
    "# lens pupil filter in reciprocal space\n",
    "Fx, Fy = np.meshgrid(freq_cpm, freq_cpm)\n",
    "FILTER = (Fx**2 + Fy**2) <= fc_lens**2"
   ]
  },
  {
   "cell_type": "markdown",
   "metadata": {
    "collapsed": false,
    "pycharm": {
     "name": "#%% md\n"
    }
   },
   "source": [
    "# Metric function\n",
    "Implement the Fourier Ring Correlation in http://doi.org/10.1038/nmeth.2448"
   ]
  },
  {
   "cell_type": "markdown",
   "metadata": {
    "collapsed": false,
    "pycharm": {
     "name": "#%% md\n"
    }
   },
   "source": [
    "# Load data"
   ]
  },
  {
   "cell_type": "code",
   "execution_count": null,
   "metadata": {},
   "outputs": [],
   "source": [
    "# Folder containing the images\n",
    "folder = './real_data/enlarged_tile/'\n",
    "generate_matlab_dataset= False\n",
    "keyword = 'tile'"
   ]
  },
  {
   "cell_type": "code",
   "execution_count": null,
   "metadata": {
    "collapsed": false,
    "pycharm": {
     "name": "#%%\n"
    }
   },
   "outputs": [],
   "source": [
    "import scipy.io\n",
    "# Find all .png files in the folder\n",
    "files = glob.glob(os.path.join(folder, \"*.png\"))\n",
    "\n",
    "img = []\n",
    "sx = []\n",
    "sy = []\n",
    "\n",
    "if generate_matlab_dataset:\n",
    "    I_low_stack = []\n",
    "    na_calib = []\n",
    "    na_cal = fc_lens*lambda_m   # NA without dimension\n",
    "    na_rp_cal = fc_lens*Dx_m    # NA in pixels\n",
    "\n",
    "for filename in files:\n",
    "    img_0 = np.array(Image.open(filename)).astype(float)\n",
    "    img.append(img_0)\n",
    "    filename = os.path.basename(filename)\n",
    "    sx_0 = float(filename[-17:-12])\n",
    "    # sx_0 = float(filename[-20:-15])\n",
    "    sy_0 = float(filename[-9:-4])\n",
    "    sx.append(sx_0)\n",
    "    sy.append(sy_0)\n",
    "    if generate_matlab_dataset:\n",
    "        I_low_stack.append(img_0)\n",
    "        na_calib.append([sx_0*fc_lens*lambda_m, sy_0*fc_lens*lambda_m])\n",
    "\n",
    "if generate_matlab_dataset:\n",
    "    I_low = np.stack(I_low_stack, axis=2)\n",
    "    na_calib = np.array(na_calib)\n",
    "    freqXY_calib = na_calib*na_rp_cal/na_cal+roi_size_px/2+1 # Shift to the center of the FOV\n",
    "    scipy.io.savemat(f'{folder}/{keyword}.mat', {'I_low': I_low, 'freqXY_calib': freqXY_calib, 'na_calib': na_calib,\n",
    "                                                'na_cal': na_cal, 'na_rp_cal': na_rp_cal})\n",
    "print(len(img))"
   ]
  },
  {
   "cell_type": "code",
   "execution_count": null,
   "metadata": {},
   "outputs": [],
   "source": [
    "img_index = 30\n",
    "\n",
    "# plot 2 images side by side\n",
    "fig, ax = plt.subplots(1, 2, figsize=(10, 5))\n",
    "im0 = ax[0].imshow(img[28], cmap='gray')\n",
    "im1 = ax[1].imshow(img[49], cmap='gray')\n",
    "# use the same color scale for both images\n",
    "im0.set_clim(0, 200)\n",
    "im1.set_clim(0, 200)\n",
    "\n",
    "plt.show()\n",
    "\n",
    "\n",
    "patch_size = 332\n",
    "im = img[img_index]\n",
    "ill_map = np.zeros((3, 3))\n",
    "for i in range(3):\n",
    "    for j in range(3):\n",
    "        ill_map[i, j] =  np.sum(im[i*patch_size: (i+1)*patch_size, j*patch_size: (j+1)*patch_size])\n",
    "\n",
    "plt.imshow(ill_map, cmap='gray')\n",
    "plt.colorbar()\n",
    "plt.show()\n",
    "\n",
    "\n",
    "ill_map_cen = np.zeros((20, 20))\n",
    "for index, im in enumerate(img):\n",
    "    central_enrgy = np.sum(im[patch_size: 2*patch_size, patch_size: 2*patch_size])\n",
    "    idx_x = int((sx[index]+1)*10)\n",
    "    idx_y = int((sy[index]+1)*10)\n",
    "    ill_map_cen[idx_x, idx_y] = central_enrgy\n",
    "    \n",
    "# Illumination dependent normalization\n",
    "im = img[20]\n",
    "norm_energy = np.sum(im[patch_size: 2*patch_size, patch_size: 2*patch_size])\n",
    "new_img = []\n",
    "for index, im in enumerate(img):\n",
    "    new_img.append(im * norm_energy/np.sum(im[patch_size: 2*patch_size, patch_size: 2*patch_size]))\n",
    "    \n",
    "\n",
    "new_ill_map_cen = np.zeros((20, 20))\n",
    "for index, im in enumerate(new_img):\n",
    "    central_enrgy = np.sum(im[patch_size: 2*patch_size, patch_size: 2*patch_size])\n",
    "    idx_x = int((sx[index]+1)*10)\n",
    "    idx_y = int((sy[index]+1)*10)\n",
    "    new_ill_map_cen[idx_x, idx_y] = central_enrgy\n",
    "\n",
    "fig, ax = plt.subplots(1, 2, figsize=(10, 5))\n",
    "im0 = ax[0].imshow(ill_map_cen, cmap='gray')\n",
    "im1 = ax[1].imshow(new_ill_map_cen, cmap='gray')\n",
    "clim = im0.get_clim()\n",
    "im1.set_clim(clim)\n",
    "plt.show()\n",
    "\n",
    "\n",
    "sum_img = np.zeros((roi_size_px, roi_size_px))\n",
    "for im in img:\n",
    "    sum_img += im\n",
    "new_sum_img = np.zeros((roi_size_px, roi_size_px))\n",
    "for im in new_img:\n",
    "    new_sum_img += im\n",
    "fig, ax = plt.subplots(1, 2, figsize=(10, 5))\n",
    "im0 = ax[0].imshow(sum_img, cmap='gray')\n",
    "im1 = ax[1].imshow(new_sum_img, cmap='gray')\n",
    "clim = im0.get_clim()\n",
    "im1.set_clim(clim)\n",
    "plt.show()\n",
    "\n",
    "\n",
    "\n",
    "img = new_img\n",
    "\n",
    "# plt.imshow(ill_map_cen, cmap='gray')\n",
    "# plt.colorbar()\n",
    "# plt.show()\n",
    "\n",
    "# Field-dependent normailization\n",
    "# patch_size = 332\n",
    "# for im in img:\n",
    "#     # calculate the energy of central patch\n",
    "#     cen_energy = np.sum(img[0][patch_size: 2*patch_size, patch_size: 2*patch_size])\n",
    "#     # equalize the energy of all patches\n",
    "#     for i in range(3):\n",
    "#         for j in range(3):\n",
    "#             im[i*patch_size: (i+1)*patch_size, j*patch_size: (j+1)*patch_size] *= cen_energy / np.sum(\n",
    "#                 im[i*patch_size: (i+1)*patch_size, j*patch_size: (j+1)*patch_size])\n",
    "\n",
    "# plt.imshow(img[30], cmap='gray')\n",
    "# plt.show()\n"
   ]
  },
  {
   "cell_type": "markdown",
   "metadata": {},
   "source": [
    "# Visualize illumination pattern"
   ]
  },
  {
   "cell_type": "code",
   "execution_count": null,
   "metadata": {},
   "outputs": [],
   "source": [
    "# Creating the scatter plot\n",
    "plt.scatter(sx, sy)\n",
    "plt.xlabel('sx')\n",
    "plt.ylabel('sy')\n",
    "plt.title('FPM illumination pattern')\n",
    "# Setting axis limits\n",
    "plt.xlim(-1, 1)\n",
    "plt.ylim(-1, 1)\n",
    "plt.axis('equal')\n",
    "\n",
    "plt.show()\n",
    "\n",
    "# save as meas pattern for simulation\n",
    "meas = []\n",
    "for i in range(len(sx)):\n",
    "    meas.append([sx[i], sy[i]])\n",
    "    \n",
    "import pickle\n",
    "with open(f'{folder}/meas.pkl', 'wb') as f:\n",
    "    pickle.dump(meas, f)\n"
   ]
  },
  {
   "cell_type": "markdown",
   "metadata": {
    "collapsed": false,
    "pycharm": {
     "name": "#%% md\n"
    }
   },
   "source": [
    "# Initialization"
   ]
  },
  {
   "cell_type": "code",
   "execution_count": null,
   "metadata": {},
   "outputs": [],
   "source": [
    "def zernike_polynomial(n, m, pupil):\n",
    "    def polar_coords():\n",
    "        \"\"\"Generate polar coordinates for a given size\"\"\"\n",
    "        x = np.linspace(-1, 1, cmax-cmin+1)\n",
    "        y = np.linspace(-1, 1, rmax-rmin+1)\n",
    "        X, Y = np.meshgrid(x, y)\n",
    "        R = np.sqrt(X**2 + Y**2)\n",
    "        T = np.arctan2(Y, X)\n",
    "        T = np.where(T < 0, T + 2*np.pi, T)\n",
    "        return R, T\n",
    "\n",
    "    def radial_poly(n, m, R):\n",
    "        \"\"\"Calculate the radial polynomial\"\"\"\n",
    "        radial = np.zeros_like(R)\n",
    "        for s in range((n - abs(m)) // 2 + 1):\n",
    "            coef = (-1)**s * np.math.factorial(n - s)\n",
    "            coef /= np.math.factorial(s) * np.math.factorial((n + abs(m)) // 2 - s) * np.math.factorial((n - abs(m)) // 2 - s)\n",
    "            radial += coef * R**(n - 2 * s)\n",
    "        return radial\n",
    "\n",
    "    rows = np.any(pupil, axis=1)\n",
    "    cols = np.any(pupil, axis=0)\n",
    "    rmin, rmax = np.where(rows)[0][[0, -1]]\n",
    "    cmin, cmax = np.where(cols)[0][[0, -1]]\n",
    "\n",
    "    R, T = polar_coords()\n",
    "    Radial = radial_poly(n, m, R)\n",
    "    if m > 0:\n",
    "        Z = np.sqrt(2*n+2) * Radial * np.cos(m * T)\n",
    "    elif m < 0:\n",
    "        Z = -np.sqrt(2*n+2) * Radial * np.sin(m * T)\n",
    "    else:\n",
    "        Z = np.sqrt(n+1) * Radial\n",
    "\n",
    "    # Pad the Zernike polynomial to match the full pupil size\n",
    "    padded_Z = np.zeros(pupil.shape)\n",
    "    padded_Z[rmin:rmax+1, cmin:cmax+1] = Z\n",
    "    return padded_Z\n"
   ]
  },
  {
   "cell_type": "code",
   "execution_count": null,
   "metadata": {},
   "outputs": [],
   "source": [
    "def get_lens_init(FILTER, option='plane', file_name=\"\"):\n",
    "    FILTER = np.double(FILTER)\n",
    "    if option == 'plane':\n",
    "        lens_init = FILTER\n",
    "        abe = np.zeros(FILTER.shape)\n",
    "    elif option == 'zernike':\n",
    "        defocus_coef = 0.15\n",
    "        coma_coef = [0.075,0.075]\n",
    "        defocus = zernike_polynomial(2, 0, FILTER)\n",
    "        coma1 = zernike_polynomial(3, 1, FILTER)\n",
    "        coma2 = zernike_polynomial(3, -1, FILTER)\n",
    "        abe = (defocus_coef*defocus+ coma_coef[0]*coma1 + coma_coef[1]*coma2)*FILTER\n",
    "        lens_guess = FILTER * np.exp(1j*abe)\n",
    "        lens_init = lens_guess\n",
    "    elif option == 'file':\n",
    "        abe = np.load(file_name)\n",
    "        lens_init = FILTER * np.exp(1j*abe)\n",
    "    else:\n",
    "        raise ValueError('option must be either plane, zernike, or file')\n",
    "    show_aberration(abe, FILTER)\n",
    "    return lens_init\n"
   ]
  },
  {
   "cell_type": "markdown",
   "metadata": {},
   "source": [
    "# Recon parameters"
   ]
  },
  {
   "cell_type": "code",
   "execution_count": null,
   "metadata": {},
   "outputs": [],
   "source": [
    "use_ROI = False\n",
    "ROI_length = 256\n",
    "ROI_center =  [int(roi_size_px/2), int(roi_size_px/2-30)]\n",
    "init_option = 'plane'\n",
    "file_name = f'{folder}/gt_abe.npy'"
   ]
  },
  {
   "cell_type": "code",
   "execution_count": null,
   "metadata": {},
   "outputs": [],
   "source": [
    "if use_ROI:\n",
    "    roi_size_px = min(ROI_length, roi_size_px)\n",
    "    print(f'Using ROI of size {ROI_length}')\n",
    "    x_m = x_m[ROI_center[0]-int(ROI_length/2):ROI_center[0]+int(ROI_length/2)]\n",
    "    y_m = y_m[ROI_center[1]-int(ROI_length/2):ROI_center[1]+int(ROI_length/2)]\n",
    "    img = [i[ROI_center[0]-int(ROI_length/2):ROI_center[0]+int(ROI_length/2), \n",
    "             ROI_center[1]-int(ROI_length/2):ROI_center[1]+int(ROI_length/2)] for i in img]\n",
    "    Dx_m = x_m.max() - x_m.min()\n",
    "    dx_m = Dx_m / ROI_length\n",
    "    fs = 1 / dx_m\n",
    "    Nfft = len(x_m)\n",
    "    df = fs / Nfft\n",
    "    freq_cpm = np.arange(0, fs, df) - (fs - Nfft % 2 * df) / 2\n",
    "    Fx, Fy = np.meshgrid(freq_cpm, freq_cpm)\n",
    "    FILTER = (Fx**2 + Fy**2) <= fc_lens**2\n",
    "\n",
    "lens_init = get_lens_init(FILTER, init_option, file_name)"
   ]
  },
  {
   "cell_type": "markdown",
   "metadata": {},
   "source": [
    "# G-S"
   ]
  },
  {
   "cell_type": "code",
   "execution_count": null,
   "metadata": {
    "collapsed": false,
    "pycharm": {
     "name": "#%%\n"
    }
   },
   "outputs": [],
   "source": [
    "aberrated_FILTER = lens_init\n",
    "spectrum_guess = ift(np.sqrt(img[0]))\n",
    "spectrum_guess = spectrum_guess * FILTER\n",
    "object_guess = ft(spectrum_guess)\n",
    "lens_guess = np.double(FILTER)\n",
    "\n",
    "plt.imshow(np.abs(object_guess)**2, extent=[x_m[0]*1e9, x_m[-1]*1e9, y_m[0]*1e9, y_m[-1]*1e9], cmap='gray')\n",
    "plt.xlabel('x position (nm)')\n",
    "plt.ylabel('y position (nm)')\n",
    "plt.title('Low-res measurement')\n",
    "plt.show()\n"
   ]
  },
  {
   "cell_type": "code",
   "execution_count": null,
   "metadata": {
    "collapsed": false,
    "pycharm": {
     "is_executing": true,
     "name": "#%%\n"
    }
   },
   "outputs": [],
   "source": [
    "N_img = len(img) # assuming img is a list\n",
    "\n",
    "for k in range(20): # general loop\n",
    "    for i in range(N_img):\n",
    "        idx = i\n",
    "\n",
    "        S_n = object_guess\n",
    "        S_p = ft(S_n)\n",
    "\n",
    "        X0 = round(sx[idx]*fc_lens*Dx_m)\n",
    "        Y0 = round(sy[idx]*fc_lens*Dx_m)\n",
    "\n",
    "        mask = circshift2(FILTER, X0, Y0)\n",
    "        aberrated_mask = circshift2(aberrated_FILTER, X0, Y0)\n",
    "        phi_n = aberrated_mask * S_p\n",
    "        Phi_n = ift(phi_n)\n",
    "        Phi_np = np.sqrt(img[idx]) * np.exp(1j*np.angle(Phi_n))\n",
    "        phi_np = ft(Phi_np) # undo aberration\n",
    "\n",
    "        # S_p[mask] = phi_np[mask]\n",
    "        step = np.conj(aberrated_mask)/np.max(np.abs(aberrated_mask)**2)*(phi_np-phi_n)\n",
    "        S_p[mask] = S_p[mask] + step[mask]\n",
    "        S_np = ift(S_p)\n",
    "        object_guess = S_np\n",
    "\n",
    "        # plt.figure(figsize=(10,10)) # create a new figure in each iteration\n",
    "\n",
    "        # plt.subplot(221)\n",
    "        # plt.imshow(np.abs(object_guess), cmap=cm.gray)\n",
    "        # plt.title('Reconstructed amplitude')\n",
    "        # plt.axis('off')\n",
    "\n",
    "        # plt.subplot(222)\n",
    "        # plt.imshow(np.angle(object_guess), cmap=cm.gray)\n",
    "        # plt.axis('off')\n",
    "        # plt.title('Reconstructed phase')\n",
    "\n",
    "        # plt.subplot(223)\n",
    "        # plt.imshow(np.abs(ft(img[idx]))**0.1, cmap=cm.gray)\n",
    "        # plt.title('Current image PSD')\n",
    "        # plt.axis('off')\n",
    "\n",
    "        # plt.subplot(224)\n",
    "        # plt.imshow(np.abs(ft(S_np))**0.1, cmap=cm.gray)\n",
    "        # plt.title('Reconstructed angular spectrum')\n",
    "        # plt.axis('off')\n",
    "\n",
    "        # display(plt.gcf()) # display the current figure\n",
    "        # clear_output(wait = True) # clear the output of the current cell receiving output\n",
    "        # plt.pause(0.01) # pause for a short time\n",
    "        \n",
    "GS_recon = object_guess\n",
    "GS_recon_image = np.abs(object_guess)**2\n"
   ]
  },
  {
   "cell_type": "code",
   "execution_count": null,
   "metadata": {
    "collapsed": false,
    "pycharm": {
     "is_executing": true,
     "name": "#%%\n"
    }
   },
   "outputs": [],
   "source": [
    "plt.imshow(imagecc(object_guess), extent=[x_m[0]*1e9, x_m[-1]*1e9, y_m[0]*1e9, y_m[-1]*1e9])\n",
    "plt.xlabel('x position (nm)', fontsize=10)\n",
    "plt.ylabel('y position (nm)', fontsize=10)\n",
    "plt.title('Reconstructed object', fontsize=12)\n",
    "plt.colorbar()\n",
    "plt.show()\n",
    "\n",
    "plt.imshow(np.abs(object_guess)**2, extent=[x_m[0]*1e9, x_m[-1]*1e9, y_m[0]*1e9, y_m[-1]*1e9], cmap='gray')\n",
    "plt.xlabel('x position (nm)')\n",
    "plt.ylabel('y position (nm)')\n",
    "plt.title('GS reconstruction')\n",
    "plt.show()\n",
    "\n",
    "# display the center [256, 256] region, total size roi_size_px\n",
    "# param_nx = 256\n",
    "# object_center = object_guess[roi_size_px//2-param_nx//2:roi_size_px//2+param_nx//2, roi_size_px//2-param_nx//2:roi_size_px//2+param_nx//2]\n",
    "# plt.imshow(np.abs(object_center), cmap='gray')\n",
    "# plt.axis('off')\n",
    "# plt.title('GS reconstruction')\n",
    "# plt.show()\n",
    "\n",
    "# Perform the refocusing\n",
    "# defocus_m = -1e-6\n",
    "# defocus_phase = np.exp(1j*2*np.pi/lambda_m*defocus_m*np.sqrt(1 -(lambda_m*Fx)**2 -(lambda_m*Fy)**2))\n",
    "# defocus_recon = ift(ft(object_guess) * defocus_phase)\n",
    "# defocused_image = np.abs(defocus_recon)**2\n",
    "# plt.imshow(defocused_image, extent=[x_m[0]*1e9, x_m[-1]*1e9, y_m[0]*1e9, y_m[-1]*1e9])\n",
    "# plt.xlabel('x position (nm)')\n",
    "# plt.ylabel('y position (nm)')\n",
    "# plt.title('Refocused image')\n",
    "# plt.colorbar()\n",
    "# plt.show()\n",
    "\n",
    "# np.save('./real_data/defocus_recon.npy', defocus_recon)"
   ]
  },
  {
   "cell_type": "markdown",
   "metadata": {
    "collapsed": false,
    "pycharm": {
     "name": "#%% md\n"
    }
   },
   "source": [
    "## Compare with ground truth"
   ]
  },
  {
   "cell_type": "code",
   "execution_count": null,
   "metadata": {
    "collapsed": false,
    "pycharm": {
     "is_executing": true,
     "name": "#%%\n"
    }
   },
   "outputs": [],
   "source": [
    "gt_obj = np.load(f'{folder}/gt.npy')\n",
    "ideal_FILTER = (Fx**2 + Fy**2) <= ((2)*fc_lens)**2\n",
    "gt_obj = ift(ft(gt_obj)*ideal_FILTER)\n",
    "\n",
    "plot_gt_cmp(GS_recon, gt_obj, x_m, y_m, freq_cpm, roi_size_px, frc=True)"
   ]
  },
  {
   "cell_type": "markdown",
   "metadata": {
    "collapsed": false,
    "pycharm": {
     "name": "#%% md\n"
    }
   },
   "source": [
    "# EPFR"
   ]
  },
  {
   "cell_type": "markdown",
   "metadata": {
    "collapsed": false,
    "pycharm": {
     "name": "#%% md\n"
    }
   },
   "source": [
    "## Aberration initialization"
   ]
  },
  {
   "cell_type": "code",
   "execution_count": null,
   "metadata": {},
   "outputs": [],
   "source": [
    "# can choose between 'plane', 'zernike', or 'file'\n",
    "init_option = 'plane'\n",
    "file_name = f'{folder}/gt_abe.npy'\n",
    "lens_init = get_lens_init(FILTER, init_option, file_name)"
   ]
  },
  {
   "cell_type": "code",
   "execution_count": null,
   "metadata": {
    "collapsed": false,
    "pycharm": {
     "is_executing": true,
     "name": "#%%\n"
    }
   },
   "outputs": [],
   "source": [
    "spectrum_guess = ift(np.sqrt(img[0]))\n",
    "spectrum_guess = spectrum_guess * FILTER\n",
    "object_guess = ft(spectrum_guess)\n",
    "lens_guess = lens_init\n",
    "\n",
    "alpha = 1\n",
    "beta = 1\n",
    "\n",
    "N_img = len(img) # assuming img is a list\n",
    "\n",
    "for k in range(10): # general loop\n",
    "    for i in range(N_img):\n",
    "        idx = i\n",
    "\n",
    "        S_n = object_guess\n",
    "        P_n = lens_guess\n",
    "\n",
    "        X0 = round(sx[idx]*fc_lens*Dx_m)\n",
    "        Y0 = round(sy[idx]*fc_lens*Dx_m)\n",
    "\n",
    "        phi_n = P_n * circshift2(ft(S_n), -X0, -Y0)\n",
    "\n",
    "        Phi_n = ift(phi_n)\n",
    "        Phi_np = np.sqrt(img[idx]) * np.exp(1j*np.angle(Phi_n))\n",
    "        phi_np = ft(Phi_np)\n",
    "\n",
    "        S_np = ift(ft(S_n) + alpha * \\\n",
    "            (np.conj(circshift2(P_n, X0, Y0)) / np.max(np.abs(circshift2(P_n, X0, Y0))**2)) * \\\n",
    "            (circshift2(phi_np, X0, Y0) - circshift2(phi_n, X0, Y0)))\n",
    "\n",
    "        P_np = P_n + beta * \\\n",
    "            (np.conj(circshift2(ft(S_n), -X0, -Y0)) / np.max(np.abs(circshift2(ft(S_n), -X0, -Y0))**2)) * \\\n",
    "            (phi_np - phi_n)\n",
    "\n",
    "        object_guess = S_np\n",
    "        lens_guess = P_np * FILTER\n",
    "\n",
    "        # plt.figure(figsize=(10,10)) # create a new figure in each iteration\n",
    "\n",
    "        # plt.subplot(221)\n",
    "        # plt.imshow(np.abs(object_guess), cmap=cm.gray)\n",
    "        # plt.title('Reconstructed amplitude')\n",
    "        # plt.axis('off')\n",
    "\n",
    "        # plt.subplot(222)\n",
    "        # plt.imshow(np.angle(object_guess), cmap=cm.gray)\n",
    "        # plt.axis('off')\n",
    "        # plt.title('Reconstructed phase')\n",
    "\n",
    "        # plt.subplot(223)\n",
    "        # plt.imshow(np.abs(ft(img[idx]))**0.1, cmap=cm.gray)\n",
    "        # plt.title('Current image PSD')\n",
    "        # plt.axis('off')\n",
    "\n",
    "        # plt.subplot(224)\n",
    "        # plt.imshow(np.abs(ft(S_np))**0.1, cmap=cm.gray)\n",
    "        # plt.title('Reconstructed angular spectrum')\n",
    "        # plt.axis('off')\n",
    "\n",
    "        # display(plt.gcf()) # display the current figure\n",
    "        # clear_output(wait = True) # clear the output of the current cell receiving output\n",
    "        # plt.pause(0.01) # pause for a short time\n",
    "\n",
    "\n",
    "EPFR_recon = object_guess\n",
    "EPFR_recon_image = np.abs(object_guess)**2"
   ]
  },
  {
   "cell_type": "code",
   "execution_count": null,
   "metadata": {},
   "outputs": [],
   "source": [
    "plt.imshow(imagecc(object_guess), extent=[x_m[0]*1e9, x_m[-1]*1e9, y_m[0]*1e9, y_m[-1]*1e9])\n",
    "plt.xlabel('x position (nm)')\n",
    "plt.ylabel('y position (nm)')\n",
    "plt.title('Reconstructed object')\n",
    "plt.colorbar()\n",
    "plt.show()\n",
    "\n",
    "plt.imshow(np.abs(object_guess)**2, extent=[x_m[0]*1e9, x_m[-1]*1e9, y_m[0]*1e9, y_m[-1]*1e9], cmap='gray')\n",
    "plt.xlabel('x position (nm)')\n",
    "plt.ylabel('y position (nm)')\n",
    "plt.title('EPFR reconstruction')\n",
    "plt.show()"
   ]
  },
  {
   "cell_type": "code",
   "execution_count": null,
   "metadata": {},
   "outputs": [],
   "source": [
    "show_aberration(np.angle(lens_guess), FILTER)\n",
    "PSF = np.abs(np.fft.fftshift(np.fft.fft2(lens_guess)))**2\n",
    "def plot_central_region(PSF, x_m, y_m, region_size=2e-6):\n",
    "    # Extract the central region of the PSF\n",
    "    x_center = (x_m[-1] + x_m[0]) / 2\n",
    "    y_center = (y_m[-1] + y_m[0]) / 2\n",
    "    x_indices = np.where((x_m >= x_center - region_size/2) & (x_m <= x_center + region_size/2))\n",
    "    y_indices = np.where((y_m >= y_center - region_size/2) & (y_m <= y_center + region_size/2))\n",
    "    central_PSF = PSF[y_indices[0][0]:y_indices[0][-1]+1, x_indices[0][0]:x_indices[0][-1]+1]\n",
    "\n",
    "    # Plot the central region\n",
    "    plt.imshow(central_PSF, extent=[x_m[x_indices[0][0]]*1e6, x_m[x_indices[0][-1]]*1e6, \n",
    "                                    y_m[y_indices[0][0]]*1e6, y_m[y_indices[0][-1]]*1e6])\n",
    "    plt.xlabel('x position (um)')\n",
    "    plt.ylabel('y position (um)')\n",
    "    plt.title('Central Region of PSF')\n",
    "    plt.show()\n",
    "\n",
    "\n",
    "plot_central_region(PSF, x_m, y_m)"
   ]
  },
  {
   "cell_type": "code",
   "execution_count": null,
   "metadata": {},
   "outputs": [],
   "source": [
    "plot_gt_cmp(EPFR_recon, gt_obj, x_m, y_m, freq_cpm, roi_size_px, frc=True)"
   ]
  },
  {
   "cell_type": "markdown",
   "metadata": {},
   "source": [
    "## Tile-based recon without overlap"
   ]
  },
  {
   "cell_type": "code",
   "execution_count": null,
   "metadata": {},
   "outputs": [],
   "source": [
    "def epfr_recon(object_guess, lens_guess, img, sx, sy, tile_size, tile_index):\n",
    "    alpha = 1\n",
    "    beta = 1\n",
    "    N_img = len(img) # assuming img is a list\n",
    "    \n",
    "    # create tile mask for the target tile\n",
    "    tile_mask = np.zeros((roi_size_px, roi_size_px))\n",
    "    tile_mask[tile_index[0]:tile_index[0]+tile_size, tile_index[1]:tile_index[1]+tile_size] = 1\n",
    "    \n",
    "    object_guess = object_guess * tile_mask\n",
    "    for k in range(3): # general loop\n",
    "        for i in range(N_img):\n",
    "            idx = i\n",
    "\n",
    "            S_n = object_guess\n",
    "            P_n = lens_guess\n",
    "\n",
    "            X0 = round(sx[idx]*fc_lens*Dx_m)\n",
    "            Y0 = round(sy[idx]*fc_lens*Dx_m)\n",
    "\n",
    "            phi_n = P_n * circshift2(ft(S_n), -X0, -Y0)\n",
    "\n",
    "            Phi_n = ift(phi_n)\n",
    "            Phi_np = np.sqrt(img[idx]*tile_mask) * np.exp(1j*np.angle(Phi_n))\n",
    "            phi_np = ft(Phi_np)\n",
    "\n",
    "            S_np = ift(ft(S_n) + alpha * \\\n",
    "                (np.conj(circshift2(P_n, X0, Y0)) / np.max(np.abs(circshift2(P_n, X0, Y0))**2)) * \\\n",
    "                (circshift2(phi_np, X0, Y0) - circshift2(phi_n, X0, Y0)))\n",
    "\n",
    "            P_np = P_n + beta * \\\n",
    "                (np.conj(circshift2(ft(S_n), -X0, -Y0)) / np.max(np.abs(circshift2(ft(S_n), -X0, -Y0))**2)) * \\\n",
    "                (phi_np - phi_n)\n",
    "\n",
    "            object_guess = S_np\n",
    "            lens_guess = P_np * FILTER\n",
    "    \n",
    "    return object_guess, lens_guess\n",
    "\n",
    "\n",
    "tile_size = 332\n",
    "spectrum_guess = ift(np.sqrt(img[0]))\n",
    "spectrum_guess = spectrum_guess * FILTER\n",
    "object_guess = ft(spectrum_guess)\n",
    "lens_guess = lens_init\n",
    "total_recon = np.zeros((roi_size_px, roi_size_px)).astype(complex)\n",
    "for p in range(3):\n",
    "    for q in range(3):\n",
    "        tile_index = [p*tile_size, q*tile_size]\n",
    "        recon, lens_guess = epfr_recon(object_guess, lens_guess, img, sx, sy, tile_size, tile_index)\n",
    "        total_recon += recon\n",
    "\n",
    "np.save(f'{folder}/total_recon.npy', total_recon)"
   ]
  },
  {
   "cell_type": "code",
   "execution_count": null,
   "metadata": {},
   "outputs": [],
   "source": [
    "plot_gt_cmp(total_recon, gt_obj, x_m, y_m, frc=True)"
   ]
  },
  {
   "cell_type": "markdown",
   "metadata": {},
   "source": [
    "# APIC"
   ]
  },
  {
   "cell_type": "code",
   "execution_count": null,
   "metadata": {},
   "outputs": [],
   "source": [
    "import scipy.io as sio\n",
    "\n",
    "file_path = glob.glob(f\"{folder}/*APIC*.*\")\n",
    "m = sio.loadmat(file_path[0])\n",
    "apic_recon = m['himMatching']\n",
    "pupil_recon = m['CTF_abe']\n",
    "zernike_recon = m['zernikeCoeff']\n",
    "\n",
    "# flip pupil recon\n",
    "pupil_recon = np.fliplr(pupil_recon)\n",
    "pupil_recon = np.flipud(pupil_recon)\n",
    "print(apic_recon.shape)\n",
    "apic_recon = apic_recon[::3, ::3]\n",
    "show_aberration(np.angle(pupil_recon), FILTER)"
   ]
  },
  {
   "cell_type": "code",
   "execution_count": null,
   "metadata": {},
   "outputs": [],
   "source": [
    "show_aberration(np.angle(pupil_recon), FILTER)"
   ]
  },
  {
   "cell_type": "code",
   "execution_count": null,
   "metadata": {},
   "outputs": [],
   "source": [
    "zernike_recon = np.squeeze(np.array(zernike_recon))\n",
    "print(zernike_recon)\n",
    "def get_pupil_phase(z, pupil):\n",
    "    rows = np.any(pupil, axis=1)\n",
    "    cols = np.any(pupil, axis=0)\n",
    "    rmin, rmax = np.where(rows)[0][[0, -1]]\n",
    "    cmin, cmax = np.where(cols)[0][[0, -1]]\n",
    "    x = np.linspace(-1, 1, cmax-cmin+1)\n",
    "    y = np.linspace(-1, 1, rmax-rmin+1)\n",
    "    X, Y = np.meshgrid(x, y)\n",
    "    local_pupil = np.where(X**2 + Y**2 <= 1, 1, 0)\n",
    "    abe_pupil = np.zeros_like(pupil).astype(np.float64)\n",
    "    abe_pupil[rmin:rmax+1, cmin:cmax+1] = compute_pupil_function(z, len(z)-1, X, Y) * local_pupil\n",
    "    return abe_pupil\n",
    "\n",
    "abe = get_pupil_phase(zernike_recon, FILTER)\n",
    "show_aberration(-abe, FILTER)\n"
   ]
  },
  {
   "cell_type": "markdown",
   "metadata": {},
   "source": [
    "Below is code that is not yet cleaned."
   ]
  },
  {
   "cell_type": "markdown",
   "metadata": {},
   "source": [
    "## Tile-based recon with overlap"
   ]
  },
  {
   "cell_type": "code",
   "execution_count": null,
   "metadata": {},
   "outputs": [],
   "source": [
    "def epfr_recon(object_guess, lens_guess, img, sx, sy):\n",
    "    alpha = 1\n",
    "    beta = 1\n",
    "    N_img = len(img) # assuming img is a list\n",
    "\n",
    "    def pad(image):\n",
    "        return np.pad(image, ((0, roi_size_px - tile_size), (0, roi_size_px - tile_size)), 'constant', constant_values=0)\n",
    "    def crop(image):\n",
    "        return image[:tile_size, :tile_size]\n",
    "    \n",
    "    # pad images to roi_size_px\n",
    "    for i in range(N_img):\n",
    "        img[i] = pad(img[i])\n",
    "    \n",
    "    for k in range(3): # general loop\n",
    "        for i in range(N_img):\n",
    "            idx = i\n",
    "\n",
    "            S_n = pad(object_guess)\n",
    "            P_n = lens_guess\n",
    "\n",
    "            X0 = round(sx[idx]*fc_lens*Dx_m)\n",
    "            Y0 = round(sy[idx]*fc_lens*Dx_m)\n",
    "\n",
    "            phi_n = P_n * circshift2(ft(S_n), -X0, -Y0)\n",
    "\n",
    "            Phi_n = ift(phi_n)\n",
    "            Phi_np = np.sqrt(img[idx]) * np.exp(1j*np.angle(Phi_n))\n",
    "            phi_np = ft(Phi_np)\n",
    "\n",
    "            S_np = ift(ft(S_n) + alpha * \\\n",
    "                (np.conj(circshift2(P_n, X0, Y0)) / np.max(np.abs(circshift2(P_n, X0, Y0))**2)) * \\\n",
    "                (circshift2(phi_np, X0, Y0) - circshift2(phi_n, X0, Y0)))\n",
    "            P_np = P_n + beta * \\\n",
    "                (np.conj(circshift2(ft(S_n), -X0, -Y0)) / np.max(np.abs(circshift2(ft(S_n), -X0, -Y0))**2)) * \\\n",
    "                (phi_np - phi_n)\n",
    "            object_guess = crop(S_np)\n",
    "            lens_guess = P_np * FILTER\n",
    "    \n",
    "    return object_guess, lens_guess\n",
    "\n",
    "# divide the tiles\n",
    "# Adjusting the overlap to ensure uniform tile size\n",
    "\n",
    "tile_size = 255\n",
    "num_steps = 1 + roi_size_px // tile_size\n",
    "step_size = (roi_size_px - tile_size) // (num_steps - 1)\n",
    "\n",
    "overlap = (tile_size * num_steps - roi_size_px) // (num_steps - 1)\n",
    "step_size = tile_size - overlap\n",
    "\n",
    "total_size = tile_size * num_steps - overlap * (num_steps - 1)\n",
    "assert total_size == roi_size_px\n",
    "\n",
    "tile_stacks = {(i, j): [] for i in range(num_steps) for j in range(num_steps)}\n",
    "\n",
    "# Crop and organize by tile location\n",
    "for image in img:\n",
    "    for i in range(num_steps):\n",
    "        for j in range(num_steps):\n",
    "            x_start = i * step_size\n",
    "            y_start = j * step_size\n",
    "            tile = image[x_start:x_start+tile_size, y_start:y_start+tile_size]\n",
    "            tile_stacks[(i, j)].append(tile)\n",
    "\n",
    "\n",
    "spectrum_guess = ift(np.sqrt(img[0])) \n",
    "spectrum_guess = spectrum_guess * FILTER\n",
    "object_guess = ft(spectrum_guess)\n",
    "lens_guess = np.complex128(FILTER)\n",
    "# tile_lens = lens_guess[roi_size_px//4:3*roi_size_px//4, roi_size_px//4:3*roi_size_px//4]\n",
    "# tile_FILTER = FILTER[roi_size_px//4:3*roi_size_px//4, roi_size_px//4:3*roi_size_px//4]\n",
    "tiles = []\n",
    "for i in range(num_steps):\n",
    "    for j in range(num_steps):\n",
    "        x_start = i * step_size\n",
    "        y_start = j * step_size\n",
    "        tile_object = object_guess[x_start:x_start+tile_size, y_start:y_start+tile_size]\n",
    "        tile_recon, lens_recon = epfr_recon(tile_object, lens_guess, tile_stacks[(i,j)], sx, sy)\n",
    "        object_guess[x_start:x_start+tile_size, y_start:y_start+tile_size] = tile_recon\n",
    "        tiles.append(tile_recon)\n",
    "        lens_guess = lens_recon\n",
    "        \n",
    "\n",
    "plt.imshow(imagecc(object_guess), extent=[x_m[0]*1e9, x_m[-1]*1e9, y_m[0]*1e9, y_m[-1]*1e9])\n",
    "plt.xlabel('x position (nm)')\n",
    "plt.ylabel('y position (nm)')\n",
    "plt.title('Tile-based reconstructed object')\n",
    "plt.colorbar()\n",
    "plt.show()    \n",
    "\n",
    "def create_weighted_mask(tile_size):\n",
    "    \"\"\"Create a linearly weighted mask for blending.\"\"\"\n",
    "    half_size = tile_size // 2\n",
    "    ramp = np.linspace(0.1, 1, half_size)  # starting from 0.1 to avoid zero weights\n",
    "    ramp = np.concatenate([ramp, ramp[::-1]])  # mirror the ramp for the other half\n",
    "    mask = np.outer(ramp, ramp)\n",
    "    return mask\n",
    "\n",
    "def stitch_tiles(tiles, num_steps, step_size, N):\n",
    "    \"\"\"Stitch tiles together using overlap.\"\"\"\n",
    "    mask = create_weighted_mask(tiles[0].shape[0])\n",
    "    stitched_image = np.complex128(np.zeros((N, N)))\n",
    "    weight_sum = np.zeros((N, N))\n",
    "\n",
    "    for i_idx in range(num_steps):\n",
    "        for j_idx in range(num_steps):\n",
    "            i = i_idx * step_size\n",
    "            j = j_idx * step_size\n",
    "            \n",
    "            stitched_image[i:i+tile_size, j:j+tile_size] += tiles[i_idx * num_steps + j_idx] * mask\n",
    "            weight_sum[i:i+tile_size, j:j+tile_size] += mask\n",
    "\n",
    "    # Normalize by the weights (to handle overlapping regions)\n",
    "    stitched_image /= weight_sum\n",
    "\n",
    "    return stitched_image\n",
    " \n",
    "stiched_object = stitch_tiles(tiles, num_steps, step_size, roi_size_px)\n",
    "plt.imshow(np.abs(stiched_object)**2, extent=[x_m[0]*1e9, x_m[-1]*1e9, y_m[0]*1e9, y_m[-1]*1e9])\n",
    "plt.xlabel('x position (nm)')\n",
    "plt.ylabel('y position (nm)')\n",
    "plt.title('Stitched image')\n",
    "plt.colorbar()\n",
    "plt.show()"
   ]
  },
  {
   "cell_type": "code",
   "execution_count": null,
   "metadata": {},
   "outputs": [],
   "source": [
    "plt.imshow(imagecc(object_guess), extent=[x_m[0]*1e9, x_m[-1]*1e9, y_m[0]*1e9, y_m[-1]*1e9])\n",
    "plt.xlabel('x position (nm)')\n",
    "plt.ylabel('y position (nm)')\n",
    "plt.title('Tile-based reconstructed object')\n",
    "plt.colorbar()\n",
    "plt.show()   "
   ]
  },
  {
   "cell_type": "markdown",
   "metadata": {
    "pycharm": {
     "name": "#%% md\n"
    }
   },
   "source": [
    "## Compare reconstruction with ground truth\n",
    "Also plot FRC curve."
   ]
  },
  {
   "cell_type": "code",
   "execution_count": null,
   "metadata": {
    "collapsed": false,
    "pycharm": {
     "is_executing": true,
     "name": "#%%\n"
    }
   },
   "outputs": [],
   "source": [
    "obj_lines = np.load('obj_lines.npy')\n",
    "ideal_FILTER = (Fx**2 + Fy**2) <= ((1+np.sqrt(2))*fc_lens)**2\n",
    "object_gt = ift(ft(obj_lines)*ideal_FILTER)\n",
    "\n",
    "plt.figure(figsize=(10, 10))  # Increase the figure size\n",
    "\n",
    "plt.subplot(121)\n",
    "plt.imshow(imagecc(object_guess), extent=[x_m[0]*1e9, x_m[-1]*1e9, y_m[0]*1e9, y_m[-1]*1e9])\n",
    "plt.xlabel('x position (nm)', fontsize=10)\n",
    "plt.ylabel('y position (nm)', fontsize=10)\n",
    "plt.title('Reconstructed object', fontsize=12)\n",
    "\n",
    "plt.subplot(122)\n",
    "plt.imshow(imagecc(object_gt), extent=[x_m[0]*1e9, x_m[-1]*1e9, y_m[0]*1e9, y_m[-1]*1e9])\n",
    "plt.xlabel('x position (nm)', fontsize=10)\n",
    "plt.ylabel('y position (nm)', fontsize=10)\n",
    "plt.title('Ground truth object (bandlimited)', fontsize=12)\n",
    "\n",
    "\n",
    "plt.subplots_adjust(wspace=0.4, hspace=0.4)  # Increase space between subplots\n",
    "plt.tight_layout()  # Automatically adjust subplot parameters for better fit\n",
    "plt.show()\n",
    "\n",
    "plt.figure()\n",
    "im_guess = np.abs(object_guess)**2\n",
    "im_gt = np.abs(object_gt)**2\n",
    "im_guess_normalized = im_guess / np.std(im_guess)\n",
    "im_gt_normalized = im_gt / np.std(im_gt)\n",
    "\n",
    "plt.figure()\n",
    "plt.plot(x_m*1e9, np.abs(im_guess_normalized[160,:]))\n",
    "plt.plot(x_m*1e9, np.abs(im_gt_normalized[160,:]))\n",
    "plt.title('Slice 160')\n",
    "plt.xlabel('x position (nm)')\n",
    "plt.ylabel('normalized intensity (a.u.)')\n",
    "plt.legend(['image guess', 'ground truth'])\n",
    "plt.show()\n",
    "\n",
    "rmse_normalized = np.sqrt(np.sum((im_guess_normalized-im_gt_normalized)**2))/np.sqrt(np.sum(im_gt_normalized**2))\n",
    "print(np.log(rmse_normalized))\n",
    "\n",
    "frc_array, halfbit_threshold = frc(im_guess_normalized, im_gt_normalized)\n",
    "plt.figure()\n",
    "plt.plot(freq_cpm[roi_size_px//2:], np.abs(frc_array))\n",
    "plt.axhline(halfbit_threshold, color='r', linestyle='--', label='Half-bit threshold')\n",
    "plt.title('Fourier ring correlation')\n",
    "plt.xlabel('Spatial frequency (nm-1)')\n",
    "plt.legend()\n",
    "plt.show()"
   ]
  },
  {
   "cell_type": "markdown",
   "metadata": {
    "pycharm": {
     "name": "#%% md\n"
    }
   },
   "source": [
    "## Compare reconstructed pupil with ground truth"
   ]
  },
  {
   "cell_type": "code",
   "execution_count": null,
   "metadata": {
    "collapsed": false,
    "pycharm": {
     "is_executing": true,
     "name": "#%%\n"
    }
   },
   "outputs": [],
   "source": [
    "fig, ax = plt.subplots(1, 3, figsize=(15, 10))  # adjust the figsize if needed\n",
    "\n",
    "# First subplot\n",
    "im = ax[0].imshow(imagecc(lens_init), cmap='hsv')\n",
    "ax[0].set_title('Initial pupil')\n",
    "divider = make_axes_locatable(ax[0])\n",
    "cax = divider.append_axes(\"right\", size=\"5%\", pad=0.05)\n",
    "fig.colorbar(im, cax=cax)\n",
    "\n",
    "# Second subplot\n",
    "im = ax[1].imshow(imagecc(lens_guess), cmap='hsv')\n",
    "ax[1].set_title('Reconstructed pupil')\n",
    "divider = make_axes_locatable(ax[1])\n",
    "cax = divider.append_axes(\"right\", size=\"5%\", pad=0.05)\n",
    "fig.colorbar(im, cax=cax)\n",
    "\n",
    "# Third subplot\n",
    "im = ax[2].imshow(imagecc(aberrated_FILTER), cmap='hsv')\n",
    "ax[2].set_title('Ground truth pupil')\n",
    "divider = make_axes_locatable(ax[2])\n",
    "cax = divider.append_axes(\"right\", size=\"5%\", pad=0.05)\n",
    "fig.colorbar(im, cax=cax)\n",
    "\n",
    "plt.tight_layout()\n",
    "plt.show()\n"
   ]
  },
  {
   "cell_type": "markdown",
   "metadata": {
    "pycharm": {
     "name": "#%% md\n"
    }
   },
   "source": [
    "## Plot zoomed in reconstructed pupil"
   ]
  },
  {
   "cell_type": "code",
   "execution_count": null,
   "metadata": {
    "collapsed": false,
    "pycharm": {
     "is_executing": true,
     "name": "#%%\n"
    }
   },
   "outputs": [],
   "source": [
    "plt.figure()\n",
    "show_size = roi_size_px\n",
    "plt.imshow(imagecc(lens_guess[roi_size_px//2-show_size//2:roi_size_px//2+show_size//2, roi_size_px//2-show_size//2:roi_size_px//2+show_size//2]), cmap='hsv')\n",
    "plt.title('Reconstructed pupil (zoomed in)')\n",
    "plt.show()"
   ]
  },
  {
   "cell_type": "markdown",
   "metadata": {},
   "source": [
    "# Compare GS and EPFR reconstruction"
   ]
  },
  {
   "cell_type": "code",
   "execution_count": null,
   "metadata": {},
   "outputs": [],
   "source": [
    "plt.figure(figsize=(10, 10))  # Increase the figure size\n",
    "\n",
    "plt.subplot(121)\n",
    "plt.imshow(imagecc(GS_recon_image), extent=[x_m[0]*1e9, x_m[-1]*1e9, y_m[0]*1e9, y_m[-1]*1e9])\n",
    "plt.xlabel('x position (nm)', fontsize=10)\n",
    "plt.ylabel('y position (nm)', fontsize=10)\n",
    "plt.title('GS reconstruction', fontsize=12)\n",
    "\n",
    "plt.subplot(122)\n",
    "plt.imshow(imagecc(EPFR_recon_image), extent=[x_m[0]*1e9, x_m[-1]*1e9, y_m[0]*1e9, y_m[-1]*1e9])\n",
    "plt.xlabel('x position (nm)', fontsize=10)\n",
    "plt.ylabel('y position (nm)', fontsize=10)\n",
    "plt.title('EPFR reconstruction', fontsize=12)\n",
    "\n",
    "\n",
    "plt.subplots_adjust(wspace=0.4, hspace=0.4)  # Increase space between subplots\n",
    "plt.tight_layout()  # Automatically adjust subplot parameters for better fit\n",
    "plt.show()"
   ]
  },
  {
   "cell_type": "code",
   "execution_count": null,
   "metadata": {},
   "outputs": [],
   "source": []
  },
  {
   "cell_type": "code",
   "execution_count": null,
   "metadata": {},
   "outputs": [],
   "source": []
  },
  {
   "cell_type": "code",
   "execution_count": null,
   "metadata": {},
   "outputs": [],
   "source": []
  },
  {
   "cell_type": "code",
   "execution_count": null,
   "metadata": {},
   "outputs": [],
   "source": []
  }
 ],
 "metadata": {
  "kernelspec": {
   "display_name": "fp_euv",
   "language": "python",
   "name": "fp_euv"
  },
  "language_info": {
   "codemirror_mode": {
    "name": "ipython",
    "version": 3
   },
   "file_extension": ".py",
   "mimetype": "text/x-python",
   "name": "python",
   "nbconvert_exporter": "python",
   "pygments_lexer": "ipython3",
   "version": "3.11.4"
  }
 },
 "nbformat": 4,
 "nbformat_minor": 0
}
