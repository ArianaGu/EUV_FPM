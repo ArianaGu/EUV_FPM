{
 "cells": [
  {
   "cell_type": "code",
   "execution_count": 1,
   "metadata": {
    "collapsed": true,
    "pycharm": {
     "name": "#%%\n"
    }
   },
   "outputs": [
    {
     "name": "stdout",
     "output_type": "stream",
     "text": [
      "Intel MKL WARNING: Support of Intel(R) Streaming SIMD Extensions 4.2 (Intel(R) SSE4.2) enabled only processors has been deprecated. Intel oneAPI Math Kernel Library 2025.0 will require Intel(R) Advanced Vector Extensions (Intel(R) AVX) instructions.\n",
      "Intel MKL WARNING: Support of Intel(R) Streaming SIMD Extensions 4.2 (Intel(R) SSE4.2) enabled only processors has been deprecated. Intel oneAPI Math Kernel Library 2025.0 will require Intel(R) Advanced Vector Extensions (Intel(R) AVX) instructions.\n"
     ]
    }
   ],
   "source": [
    "import numpy as np\n",
    "import matplotlib.pyplot as plt\n",
    "from matplotlib import cm\n",
    "from mpl_toolkits.axes_grid1 import make_axes_locatable\n",
    "from IPython.display import display, clear_output\n",
    "from colorsys import hls_to_rgb\n",
    "from PIL import Image\n",
    "import os\n",
    "import glob"
   ]
  },
  {
   "cell_type": "markdown",
   "source": [
    "# System parameters"
   ],
   "metadata": {
    "collapsed": false,
    "pycharm": {
     "name": "#%% md\n"
    }
   }
  },
  {
   "cell_type": "code",
   "execution_count": 2,
   "outputs": [],
   "source": [
    "# size of the region of interest\n",
    "roi_size_px = 332\n",
    "# wavelength of acquisition\n",
    "lambda_m = 13.5e-9\n",
    "\n",
    "# effective pixel size\n",
    "dx_m = 15e-9\n",
    "# effective field size\n",
    "Dx_m = roi_size_px * dx_m\n",
    "\n",
    "# spatial scales\n",
    "x_m = np.arange(1, roi_size_px + 1) * dx_m\n",
    "y_m = np.arange(1, roi_size_px + 1) * dx_m\n",
    "\n",
    "# angular frequency scale\n",
    "fs = 1 / (x_m[1] - x_m[0])\n",
    "Nfft = len(x_m)\n",
    "df = fs / Nfft\n",
    "freq_cpm = np.arange(0, fs, df) - (fs - Nfft % 2 * df) / 2\n",
    "\n",
    "# frequency cut-off of the lens (0.33 4xNA lens)\n",
    "fc_lens = (np.arcsin(.33/4)/lambda_m)\n",
    "# lens pupil filter in reciprocal space\n",
    "Fx, Fy = np.meshgrid(freq_cpm, freq_cpm)\n",
    "FILTER = (Fx**2 + Fy**2) <= fc_lens**2"
   ],
   "metadata": {
    "collapsed": false,
    "pycharm": {
     "name": "#%%\n"
    }
   }
  },
  {
   "cell_type": "markdown",
   "source": [
    "# Helper functions"
   ],
   "metadata": {
    "collapsed": false,
    "pycharm": {
     "name": "#%% md\n"
    }
   }
  },
  {
   "cell_type": "code",
   "execution_count": 3,
   "outputs": [],
   "source": [
    "# centered Fourier Transform\n",
    "ft = lambda signal: np.fft.fftshift(np.fft.ifft2(np.fft.ifftshift(signal)))\n",
    "ift = lambda signal: np.fft.fftshift(np.fft.fft2(np.fft.ifftshift(signal)))\n",
    "\n",
    "# circular shifting\n",
    "def circshift2(input, x_shift_px, y_shift_px):\n",
    "    return np.roll(np.roll(input, round(x_shift_px), axis=1), round(y_shift_px), axis=0)\n",
    "\n",
    "def colorize(z):\n",
    "    n,m = z.shape\n",
    "    c = np.zeros((n,m,3))\n",
    "    c[np.isinf(z)] = (1.0, 1.0, 1.0)\n",
    "    c[np.isnan(z)] = (0.5, 0.5, 0.5)\n",
    "\n",
    "    idx = ~(np.isinf(z) + np.isnan(z))\n",
    "    A = (np.angle(z[idx]) + np.pi) / (2*np.pi)\n",
    "    A = (A + 0.5) % 1.0\n",
    "    B = 1.0 - 1.0/(1.0+abs(z[idx])**0.3)\n",
    "    c[idx] = [hls_to_rgb(a, b, 0.8) for a,b in zip(A,B)]\n",
    "    return c\n",
    "\n",
    "def imagecc(img_complex):\n",
    "    '''\n",
    "    imagecc(img_complex) displays an image where amplitude is mapped\n",
    "    on the value and the phase is mapped on the hue.\n",
    "    img_rgb =imagecc(img_complex) returns the corresponding RGB data,\n",
    "    '''\n",
    "\n",
    "    N_row, N_col = img_complex.shape\n",
    "\n",
    "    map_func = lambda x, channel: np.minimum(6*np.mod(x-(channel+1)/3,1),1) * \\\n",
    "        np.maximum(np.minimum(6*(2/3-np.mod(x-(channel+1)/3,1)),1),0)\n",
    "\n",
    "    img_abs = np.abs(img_complex.ravel())/(np.max(np.abs(img_complex.ravel())))\n",
    "    img_arg = np.angle(img_complex.ravel())/(2*np.pi)+0.5\n",
    "\n",
    "    img_rgb = np.zeros((N_row,N_col,3))\n",
    "\n",
    "    img_rgb[:,:,0] = np.reshape(map_func(img_arg,1)*np.abs(img_abs),(N_row,N_col))\n",
    "    img_rgb[:,:,1] = np.reshape(map_func(img_arg,2)*np.abs(img_abs),(N_row,N_col))\n",
    "    img_rgb[:,:,2] = np.reshape(map_func(img_arg,3)*np.abs(img_abs),(N_row,N_col))\n",
    "\n",
    "    return img_rgb"
   ],
   "metadata": {
    "collapsed": false,
    "pycharm": {
     "name": "#%%\n"
    }
   }
  },
  {
   "cell_type": "markdown",
   "source": [
    "# Metric function\n",
    "Implement the Fourier Ring Correlation in http://doi.org/10.1038/nmeth.2448"
   ],
   "metadata": {
    "collapsed": false,
    "pycharm": {
     "name": "#%% md\n"
    }
   }
  },
  {
   "cell_type": "code",
   "execution_count": 4,
   "outputs": [],
   "source": [
    "def circsum(img_in):\n",
    "    if img_in.shape[0] != img_in.shape[1]:\n",
    "        raise ValueError('the input matrix must be square')\n",
    "\n",
    "    N_px = img_in.shape[0]\n",
    "    xc = yc = N_px // 2\n",
    "\n",
    "    X, Y = np.meshgrid(np.arange(N_px), np.arange(N_px))\n",
    "    dcirc = np.zeros(N_px//2, dtype=complex)\n",
    "    for i in range(N_px//2):\n",
    "        domain = ((X-xc)**2+(Y-yc)**2 >= i**2) & ((X-xc)**2+(Y-yc)**2 < (i+1)**2)\n",
    "        dcirc[i] = np.sum(domain * img_in)\n",
    "\n",
    "    return dcirc\n",
    "\n",
    "def frc(img1, img2):\n",
    "    ft1 = ft(img1)\n",
    "    ft2 = ft(img2)\n",
    "\n",
    "    frc_array = circsum(ft1 * np.conj(ft2)) / (np.sqrt(circsum(np.abs(ft1)**2)) * np.sqrt(circsum(np.abs(ft2)**2)))\n",
    "\n",
    "    n_vox = np.sum(np.ones(img1.shape))\n",
    "    halfbit_threshold = (0.2071 + 1.9102 / np.sqrt(n_vox)) / (1.2071 + 0.9102 / np.sqrt(n_vox))\n",
    "\n",
    "    return frc_array, halfbit_threshold"
   ],
   "metadata": {
    "collapsed": false,
    "pycharm": {
     "name": "#%%\n"
    }
   }
  },
  {
   "cell_type": "markdown",
   "source": [
    "# Load data"
   ],
   "metadata": {
    "collapsed": false,
    "pycharm": {
     "name": "#%% md\n"
    }
   }
  },
  {
   "cell_type": "code",
   "execution_count": 5,
   "outputs": [
    {
     "name": "stdout",
     "output_type": "stream",
     "text": [
      "81\n"
     ]
    }
   ],
   "source": [
    "# Folder containing the images\n",
    "folder = './sim_data' # specify your folder\n",
    "\n",
    "# Find all .png files in the folder\n",
    "files = glob.glob(os.path.join(folder, \"aberrated_*.png\"))\n",
    "\n",
    "img = []\n",
    "sx = []\n",
    "sy = []\n",
    "for filename in files:\n",
    "    img.append(np.array(Image.open(filename)))\n",
    "    filename = os.path.basename(filename)\n",
    "    sx.append(float(filename[-20:-15]))\n",
    "    sy.append(float(filename[-9:-4]))\n",
    "\n",
    "print(len(img))"
   ],
   "metadata": {
    "collapsed": false,
    "pycharm": {
     "name": "#%%\n"
    }
   }
  },
  {
   "cell_type": "markdown",
   "source": [
    "# Initialization"
   ],
   "metadata": {
    "collapsed": false,
    "pycharm": {
     "name": "#%% md\n"
    }
   }
  },
  {
   "cell_type": "code",
   "execution_count": 6,
   "outputs": [],
   "source": [
    "aberrated_FILTER = np.load('./sim_data/pupil_function.npy')\n",
    "\n",
    "spectrum_guess = ift(np.sqrt(img[0]))\n",
    "spectrum_guess = spectrum_guess * FILTER\n",
    "object_guess = ft(spectrum_guess)\n",
    "lens_guess = np.double(FILTER)"
   ],
   "metadata": {
    "collapsed": false,
    "pycharm": {
     "name": "#%%\n"
    }
   }
  },
  {
   "cell_type": "markdown",
   "source": [
    "# G-S"
   ],
   "metadata": {
    "collapsed": false,
    "pycharm": {
     "name": "#%% md\n"
    }
   }
  },
  {
   "cell_type": "code",
   "execution_count": null,
   "outputs": [],
   "source": [
    "N_img = len(img) # assuming img is a list\n",
    "\n",
    "for k in range(3): # general loop\n",
    "    for i in range(N_img):\n",
    "        idx = i\n",
    "\n",
    "        S_n = object_guess\n",
    "        S_p = ft(S_n)\n",
    "\n",
    "        X0 = round(sx[idx]*fc_lens*Dx_m)\n",
    "        Y0 = round(sy[idx]*fc_lens*Dx_m)\n",
    "\n",
    "        mask = circshift2(FILTER, X0, Y0)\n",
    "        aberrated_mask = circshift2(aberrated_FILTER, X0, Y0)\n",
    "        phi_n = aberrated_mask * S_p\n",
    "\n",
    "        Phi_n = ift(phi_n)\n",
    "        Phi_np = np.sqrt(img[idx]) * np.exp(1j*np.angle(Phi_n))\n",
    "        phi_np = ft(Phi_np) # undo aberration\n",
    "\n",
    "        # S_p[mask] = phi_np[mask]\n",
    "        step = np.conj(aberrated_mask)/np.max(np.abs(aberrated_mask)**2)*(phi_np-phi_n)\n",
    "        S_p[mask] = S_p[mask] + step[mask]\n",
    "        S_np = ift(S_p)\n",
    "        object_guess = S_np\n",
    "\n",
    "        plt.figure(figsize=(10,10)) # create a new figure in each iteration\n",
    "\n",
    "        plt.subplot(221)\n",
    "        plt.imshow(np.abs(object_guess), cmap=cm.gray)\n",
    "        plt.title('Reconstructed amplitude')\n",
    "        plt.axis('off')\n",
    "\n",
    "        plt.subplot(222)\n",
    "        plt.imshow(np.angle(object_guess), cmap=cm.gray)\n",
    "        plt.axis('off')\n",
    "        plt.title('Reconstructed phase')\n",
    "\n",
    "        plt.subplot(223)\n",
    "        plt.imshow(np.abs(ft(img[idx]))**0.1, cmap=cm.gray)\n",
    "        plt.title('Current image PSD')\n",
    "        plt.axis('off')\n",
    "\n",
    "        plt.subplot(224)\n",
    "        plt.imshow(np.abs(ft(S_np))**0.1, cmap=cm.gray)\n",
    "        plt.title('Reconstructed angular spectrum')\n",
    "        plt.axis('off')\n",
    "\n",
    "        display(plt.gcf()) # display the current figure\n",
    "        clear_output(wait = True) # clear the output of the current cell receiving output\n",
    "        plt.pause(0.01) # pause for a short time\n"
   ],
   "metadata": {
    "collapsed": false,
    "pycharm": {
     "name": "#%%\n",
     "is_executing": true
    }
   }
  },
  {
   "cell_type": "code",
   "execution_count": null,
   "outputs": [],
   "source": [
    "plt.imshow(np.abs(object_guess)**2, extent=[x_m[0]*1e9, x_m[-1]*1e9, y_m[0]*1e9, y_m[-1]*1e9])\n",
    "plt.xlabel('x position (nm)')\n",
    "plt.ylabel('y position (nm)')\n",
    "plt.title('Reconstructed image')\n",
    "plt.colorbar()\n",
    "plt.show()"
   ],
   "metadata": {
    "collapsed": false,
    "pycharm": {
     "name": "#%%\n",
     "is_executing": true
    }
   }
  },
  {
   "cell_type": "markdown",
   "source": [
    "# Compare with ground truth"
   ],
   "metadata": {
    "collapsed": false,
    "pycharm": {
     "name": "#%% md\n"
    }
   }
  },
  {
   "cell_type": "code",
   "execution_count": null,
   "outputs": [],
   "source": [
    "obj_lines = np.load('obj_lines.npy')\n",
    "\n",
    "plt.figure(figsize=(12, 8))  # Increase the figure size\n",
    "\n",
    "plt.subplot(221)\n",
    "plt.imshow(np.abs(object_guess), extent=[x_m[0]*1e9, x_m[-1]*1e9, y_m[0]*1e9, y_m[-1]*1e9])\n",
    "plt.xlabel('x position (nm)', fontsize=10)\n",
    "plt.ylabel('y position (nm)', fontsize=10)\n",
    "plt.title('Reconstructed amplitude', fontsize=12)\n",
    "\n",
    "plt.subplot(222)\n",
    "plt.imshow(np.angle(object_guess), extent=[x_m[0]*1e9, x_m[-1]*1e9, y_m[0]*1e9, y_m[-1]*1e9])\n",
    "plt.xlabel('x position (nm)', fontsize=10)\n",
    "plt.ylabel('y position (nm)', fontsize=10)\n",
    "plt.title('Reconstructed phase', fontsize=12)\n",
    "\n",
    "plt.subplot(223)\n",
    "plt.imshow(np.abs(obj_lines), extent=[x_m[0]*1e9, x_m[-1]*1e9, y_m[0]*1e9, y_m[-1]*1e9])\n",
    "plt.xlabel('x position (nm)', fontsize=10)\n",
    "plt.ylabel('y position (nm)', fontsize=10)\n",
    "plt.title('Ground truth amplitude', fontsize=12)\n",
    "\n",
    "plt.subplot(224)\n",
    "plt.imshow(np.angle(obj_lines), extent=[x_m[0]*1e9, x_m[-1]*1e9, y_m[0]*1e9, y_m[-1]*1e9])\n",
    "plt.xlabel('x position (nm)', fontsize=10)\n",
    "plt.ylabel('y position (nm)', fontsize=10)\n",
    "plt.title('Ground truth phase', fontsize=12)\n",
    "\n",
    "plt.subplots_adjust(wspace=0.5, hspace=0.3)  # Increase space between subplots\n",
    "plt.tight_layout()  # Automatically adjust subplot parameters for better fit\n",
    "plt.show()\n"
   ],
   "metadata": {
    "collapsed": false,
    "pycharm": {
     "name": "#%%\n",
     "is_executing": true
    }
   }
  },
  {
   "cell_type": "code",
   "execution_count": null,
   "outputs": [],
   "source": [
    "obj_lines = np.load('obj_lines.npy')\n",
    "ideal_FILTER = (Fx**2 + Fy**2) <= ((2)*fc_lens)**2\n",
    "object_gt = ift(ft(obj_lines)*ideal_FILTER)\n",
    "\n",
    "plt.figure(figsize=(10, 10))  # Increase the figure size\n",
    "\n",
    "plt.subplot(121)\n",
    "plt.imshow(imagecc(object_guess), extent=[x_m[0]*1e9, x_m[-1]*1e9, y_m[0]*1e9, y_m[-1]*1e9])\n",
    "plt.xlabel('x position (nm)', fontsize=10)\n",
    "plt.ylabel('y position (nm)', fontsize=10)\n",
    "plt.title('Reconstructed object', fontsize=12)\n",
    "\n",
    "plt.subplot(122)\n",
    "plt.imshow(imagecc(object_gt), extent=[x_m[0]*1e9, x_m[-1]*1e9, y_m[0]*1e9, y_m[-1]*1e9])\n",
    "plt.xlabel('x position (nm)', fontsize=10)\n",
    "plt.ylabel('y position (nm)', fontsize=10)\n",
    "plt.title('Ground truth object (bandlimited)', fontsize=12)\n",
    "\n",
    "\n",
    "plt.subplots_adjust(wspace=0.4, hspace=0.4)  # Increase space between subplots\n",
    "plt.tight_layout()  # Automatically adjust subplot parameters for better fit\n",
    "plt.show()"
   ],
   "metadata": {
    "collapsed": false,
    "pycharm": {
     "name": "#%%\n",
     "is_executing": true
    }
   }
  },
  {
   "cell_type": "code",
   "execution_count": null,
   "outputs": [],
   "source": [
    "# normalization\n",
    "plt.figure()\n",
    "im_guess = np.abs(object_guess)**2\n",
    "im_gt = np.abs(object_gt)**2\n",
    "im_guess_normalized = im_guess / np.std(im_guess)\n",
    "im_gt_normalized = im_gt / np.std(im_gt)\n",
    "\n",
    "plt.figure()\n",
    "plt.plot(x_m*1e9, np.abs(im_guess_normalized[160,:]))\n",
    "plt.plot(x_m*1e9, np.abs(im_gt_normalized[160,:]))\n",
    "plt.title('Slice 160')\n",
    "plt.xlabel('x position (nm)')\n",
    "plt.ylabel('normalized intensity (a.u.)')\n",
    "plt.legend(['image guess', 'ground truth'])\n",
    "plt.show()\n",
    "\n",
    "rmse_normalized = np.sqrt(np.sum((im_guess_normalized-im_gt_normalized)**2))/np.sqrt(np.sum(im_gt_normalized**2))\n",
    "print(np.log(rmse_normalized))\n",
    "\n",
    "frc_array, halfbit_threshold = frc(im_guess_normalized, im_gt_normalized)\n",
    "plt.figure()\n",
    "plt.plot(freq_cpm[roi_size_px//2:], np.abs(frc_array))\n",
    "plt.axhline(halfbit_threshold, color='r', linestyle='--', label='Half-bit threshold')\n",
    "plt.title('Fourier ring correlation')\n",
    "plt.xlabel('Spatial frequency (nm-1)')\n",
    "plt.legend()\n",
    "plt.show()"
   ],
   "metadata": {
    "collapsed": false,
    "pycharm": {
     "name": "#%%\n",
     "is_executing": true
    }
   }
  },
  {
   "cell_type": "code",
   "execution_count": null,
   "outputs": [],
   "source": [
    "# normalization\n",
    "plt.figure()\n",
    "im_guess = np.abs(object_guess)**2\n",
    "im_gt = np.abs(object_gt)**2\n",
    "im_guess_normalized = im_guess / np.std(im_guess)\n",
    "im_gt_normalized = im_gt / np.std(im_gt)\n",
    "\n",
    "plt.figure()\n",
    "plt.plot(x_m*1e9, np.abs(im_guess_normalized[160,:]))\n",
    "plt.plot(x_m*1e9, np.abs(im_gt_normalized[160,:]))\n",
    "plt.title('Slice 160')\n",
    "plt.xlabel('x position (nm)')\n",
    "plt.ylabel('normalized intensity (a.u.)')\n",
    "plt.legend(['image guess', 'ground truth'])\n",
    "plt.show()\n",
    "\n",
    "img1 = im_gt_normalized + 0.1*np.random.random((roi_size_px, roi_size_px))\n",
    "img2 = im_gt_normalized + 0.1*np.random.random((roi_size_px, roi_size_px))\n",
    "\n",
    "rmse_normalized = np.sqrt(np.sum((im_guess_normalized-im_gt_normalized)**2))/np.sqrt(np.sum(im_gt_normalized**2))\n",
    "print(np.log(rmse_normalized))\n",
    "\n",
    "frc_array, halfbit_threshold = frc(img1, img2)\n",
    "plt.figure()\n",
    "plt.plot(freq_cpm[roi_size_px//2:], np.abs(frc_array))\n",
    "plt.axhline(halfbit_threshold, color='r', linestyle='--', label='Half-bit threshold')\n",
    "plt.title('Fourier ring correlation')\n",
    "plt.xlabel('Spatial frequency (nm-1)')\n",
    "plt.legend()\n",
    "plt.show()"
   ],
   "metadata": {
    "collapsed": false,
    "pycharm": {
     "name": "#%%\n",
     "is_executing": true
    }
   }
  },
  {
   "cell_type": "markdown",
   "source": [
    "# EPFR"
   ],
   "metadata": {
    "collapsed": false,
    "pycharm": {
     "name": "#%% md\n"
    }
   }
  },
  {
   "cell_type": "markdown",
   "source": [
    "## Initialize with a good guess"
   ],
   "metadata": {
    "collapsed": false,
    "pycharm": {
     "name": "#%% md\n"
    }
   }
  },
  {
   "cell_type": "code",
   "execution_count": null,
   "outputs": [],
   "source": [
    "def zernike_polynomial(n, m, pupil):\n",
    "    def polar_coords():\n",
    "        \"\"\"Generate polar coordinates for a given size\"\"\"\n",
    "        x = np.linspace(-1, 1, cmax-cmin+1)\n",
    "        y = np.linspace(-1, 1, rmax-rmin+1)\n",
    "        X, Y = np.meshgrid(x, y)\n",
    "        R = np.sqrt(X**2 + Y**2)\n",
    "        T = np.arctan2(Y, X)\n",
    "        T = np.where(T < 0, T + 2*np.pi, T)\n",
    "        return R, T\n",
    "\n",
    "    def radial_poly(n, m, R):\n",
    "        \"\"\"Calculate the radial polynomial\"\"\"\n",
    "        radial = np.zeros_like(R)\n",
    "        for s in range((n - abs(m)) // 2 + 1):\n",
    "            coef = (-1)**s * np.math.factorial(n - s)\n",
    "            coef /= np.math.factorial(s) * np.math.factorial((n + abs(m)) // 2 - s) * np.math.factorial((n - abs(m)) // 2 - s)\n",
    "            radial += coef * R**(n - 2 * s)\n",
    "        return radial\n",
    "\n",
    "    rows = np.any(pupil, axis=1)\n",
    "    cols = np.any(pupil, axis=0)\n",
    "    rmin, rmax = np.where(rows)[0][[0, -1]]\n",
    "    cmin, cmax = np.where(cols)[0][[0, -1]]\n",
    "\n",
    "    R, T = polar_coords()\n",
    "    Radial = radial_poly(n, m, R)\n",
    "    if m > 0:\n",
    "        Z = np.sqrt(2*n+2) * Radial * np.cos(m * T)\n",
    "    elif m < 0:\n",
    "        Z = -np.sqrt(2*n+2) * Radial * np.sin(m * T)\n",
    "    else:\n",
    "        Z = np.sqrt(n+1) * Radial\n",
    "\n",
    "    # Pad the Zernike polynomial to match the full pupil size\n",
    "    padded_Z = np.zeros(pupil.shape)\n",
    "    padded_Z[rmin:rmax+1, cmin:cmax+1] = Z\n",
    "    return padded_Z\n",
    "\n",
    "defocus_coef = 0.15\n",
    "coma_coef = [0.075,0.075]\n",
    "defocus = zernike_polynomial(2, 0, FILTER)\n",
    "coma1 = zernike_polynomial(3, 1, FILTER)\n",
    "coma2 = zernike_polynomial(3, -1, FILTER)\n",
    "aberration = (defocus_coef*defocus+ coma_coef[0]*coma1 + coma_coef[1]*coma2)*FILTER\n",
    "lens_guess = FILTER * np.exp(1j*aberration)\n",
    "lens_init = lens_guess\n",
    "\n",
    "plt.imshow(np.angle(lens_guess), cmap='jet')\n",
    "plt.title('Pupil function phase')\n",
    "plt.axis('off')\n",
    "plt.colorbar()\n",
    "plt.show()"
   ],
   "metadata": {
    "collapsed": false,
    "pycharm": {
     "name": "#%%\n",
     "is_executing": true
    }
   }
  },
  {
   "cell_type": "code",
   "execution_count": null,
   "outputs": [],
   "source": [
    "spectrum_guess = ift(np.sqrt(img[0]))\n",
    "spectrum_guess = spectrum_guess * FILTER\n",
    "object_guess = ft(spectrum_guess)\n",
    "# lens_guess = np.double(FILTER)\n",
    "\n",
    "alpha = 1\n",
    "beta = 1\n",
    "\n",
    "N_img = len(img) # assuming img is a list\n",
    "\n",
    "for k in range(3): # general loop\n",
    "    for i in range(N_img):\n",
    "        idx = i\n",
    "\n",
    "        S_n = object_guess\n",
    "        P_n = lens_guess\n",
    "\n",
    "        X0 = round(sx[idx]*fc_lens*Dx_m)\n",
    "        Y0 = round(sy[idx]*fc_lens*Dx_m)\n",
    "\n",
    "        phi_n = P_n * circshift2(ft(S_n), -X0, -Y0)\n",
    "\n",
    "        Phi_n = ift(phi_n)\n",
    "        Phi_np = np.sqrt(img[idx]) * np.exp(1j*np.angle(Phi_n))\n",
    "        phi_np = ft(Phi_np)\n",
    "\n",
    "        S_np = ift(ft(S_n) + alpha * \\\n",
    "            (np.conj(circshift2(P_n, X0, Y0)) / np.max(np.abs(circshift2(P_n, X0, Y0))**2)) * \\\n",
    "            (circshift2(phi_np, X0, Y0) - circshift2(phi_n, X0, Y0)))\n",
    "\n",
    "        P_np = P_n + beta * \\\n",
    "            (np.conj(circshift2(ft(S_n), -X0, -Y0)) / np.max(np.abs(circshift2(ft(S_n), -X0, -Y0))**2)) * \\\n",
    "            (phi_np - phi_n)\n",
    "\n",
    "        object_guess = S_np\n",
    "        lens_guess = P_np * FILTER\n",
    "\n",
    "        plt.figure(figsize=(10,10)) # create a new figure in each iteration\n",
    "\n",
    "        plt.subplot(221)\n",
    "        plt.imshow(np.abs(object_guess), cmap=cm.gray)\n",
    "        plt.title('Reconstructed amplitude')\n",
    "        plt.axis('off')\n",
    "\n",
    "        plt.subplot(222)\n",
    "        plt.imshow(np.angle(object_guess), cmap=cm.gray)\n",
    "        plt.axis('off')\n",
    "        plt.title('Reconstructed phase')\n",
    "\n",
    "        plt.subplot(223)\n",
    "        plt.imshow(np.abs(ft(img[idx]))**0.1, cmap=cm.gray)\n",
    "        plt.title('Current image PSD')\n",
    "        plt.axis('off')\n",
    "\n",
    "        plt.subplot(224)\n",
    "        plt.imshow(np.abs(ft(S_np))**0.1, cmap=cm.gray)\n",
    "        plt.title('Reconstructed angular spectrum')\n",
    "        plt.axis('off')\n",
    "\n",
    "        display(plt.gcf()) # display the current figure\n",
    "        clear_output(wait = True) # clear the output of the current cell receiving output\n",
    "        plt.pause(0.01) # pause for a short time\n"
   ],
   "metadata": {
    "collapsed": false,
    "pycharm": {
     "name": "#%%\n",
     "is_executing": true
    }
   }
  },
  {
   "cell_type": "code",
   "execution_count": null,
   "outputs": [],
   "source": [
    "obj_lines = np.load('obj_lines.npy')\n",
    "ideal_FILTER = (Fx**2 + Fy**2) <= ((1+np.sqrt(2))*fc_lens)**2\n",
    "object_gt = ift(ft(obj_lines)*ideal_FILTER)\n",
    "\n",
    "plt.figure(figsize=(10, 10))  # Increase the figure size\n",
    "\n",
    "plt.subplot(121)\n",
    "plt.imshow(imagecc(object_guess), extent=[x_m[0]*1e9, x_m[-1]*1e9, y_m[0]*1e9, y_m[-1]*1e9])\n",
    "plt.xlabel('x position (nm)', fontsize=10)\n",
    "plt.ylabel('y position (nm)', fontsize=10)\n",
    "plt.title('Reconstructed object', fontsize=12)\n",
    "\n",
    "plt.subplot(122)\n",
    "plt.imshow(imagecc(object_gt), extent=[x_m[0]*1e9, x_m[-1]*1e9, y_m[0]*1e9, y_m[-1]*1e9])\n",
    "plt.xlabel('x position (nm)', fontsize=10)\n",
    "plt.ylabel('y position (nm)', fontsize=10)\n",
    "plt.title('Ground truth object (bandlimited)', fontsize=12)\n",
    "\n",
    "\n",
    "plt.subplots_adjust(wspace=0.4, hspace=0.4)  # Increase space between subplots\n",
    "plt.tight_layout()  # Automatically adjust subplot parameters for better fit\n",
    "plt.show()\n",
    "\n",
    "plt.figure()\n",
    "im_guess = np.abs(object_guess)**2\n",
    "im_gt = np.abs(object_gt)**2\n",
    "im_guess_normalized = im_guess / np.std(im_guess)\n",
    "im_gt_normalized = im_gt / np.std(im_gt)\n",
    "\n",
    "plt.figure()\n",
    "plt.plot(x_m*1e9, np.abs(im_guess_normalized[160,:]))\n",
    "plt.plot(x_m*1e9, np.abs(im_gt_normalized[160,:]))\n",
    "plt.title('Slice 160')\n",
    "plt.xlabel('x position (nm)')\n",
    "plt.ylabel('normalized intensity (a.u.)')\n",
    "plt.legend(['image guess', 'ground truth'])\n",
    "plt.show()\n",
    "\n",
    "rmse_normalized = np.sqrt(np.sum((im_guess_normalized-im_gt_normalized)**2))/np.sqrt(np.sum(im_gt_normalized**2))\n",
    "print(np.log(rmse_normalized))\n",
    "\n",
    "frc_array, halfbit_threshold = frc(im_guess_normalized, im_gt_normalized)\n",
    "plt.figure()\n",
    "plt.plot(freq_cpm[roi_size_px//2:], np.abs(frc_array))\n",
    "plt.axhline(halfbit_threshold, color='r', linestyle='--', label='Half-bit threshold')\n",
    "plt.title('Fourier ring correlation')\n",
    "plt.xlabel('Spatial frequency (nm-1)')\n",
    "plt.legend()\n",
    "plt.show()"
   ],
   "metadata": {
    "collapsed": false,
    "pycharm": {
     "name": "#%%\n",
     "is_executing": true
    }
   }
  },
  {
   "cell_type": "code",
   "execution_count": null,
   "outputs": [],
   "source": [
    "fig, ax = plt.subplots(1, 3, figsize=(15, 10))  # adjust the figsize if needed\n",
    "\n",
    "# First subplot\n",
    "im = ax[0].imshow(imagecc(lens_init), cmap='hsv')\n",
    "ax[0].set_title('Initial pupil')\n",
    "divider = make_axes_locatable(ax[0])\n",
    "cax = divider.append_axes(\"right\", size=\"5%\", pad=0.05)\n",
    "fig.colorbar(im, cax=cax)\n",
    "\n",
    "# Second subplot\n",
    "im = ax[1].imshow(imagecc(lens_guess), cmap='hsv')\n",
    "ax[1].set_title('Reconstructed pupil')\n",
    "divider = make_axes_locatable(ax[1])\n",
    "cax = divider.append_axes(\"right\", size=\"5%\", pad=0.05)\n",
    "fig.colorbar(im, cax=cax)\n",
    "\n",
    "# Third subplot\n",
    "im = ax[2].imshow(imagecc(aberrated_FILTER), cmap='hsv')\n",
    "ax[2].set_title('Ground truth pupil')\n",
    "divider = make_axes_locatable(ax[2])\n",
    "cax = divider.append_axes(\"right\", size=\"5%\", pad=0.05)\n",
    "fig.colorbar(im, cax=cax)\n",
    "\n",
    "plt.tight_layout()\n",
    "plt.show()\n"
   ],
   "metadata": {
    "collapsed": false,
    "pycharm": {
     "name": "#%%\n",
     "is_executing": true
    }
   }
  },
  {
   "cell_type": "code",
   "execution_count": null,
   "outputs": [],
   "source": [],
   "metadata": {
    "collapsed": false,
    "pycharm": {
     "name": "#%%\n",
     "is_executing": true
    }
   }
  }
 ],
 "metadata": {
  "kernelspec": {
   "display_name": "Python 3",
   "language": "python",
   "name": "python3"
  },
  "language_info": {
   "codemirror_mode": {
    "name": "ipython",
    "version": 2
   },
   "file_extension": ".py",
   "mimetype": "text/x-python",
   "name": "python",
   "nbconvert_exporter": "python",
   "pygments_lexer": "ipython2",
   "version": "2.7.6"
  }
 },
 "nbformat": 4,
 "nbformat_minor": 0
}